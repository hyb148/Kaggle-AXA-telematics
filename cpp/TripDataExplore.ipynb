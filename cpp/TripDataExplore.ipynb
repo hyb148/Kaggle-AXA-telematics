{
 "cells": [
  {
   "cell_type": "markdown",
   "metadata": {},
   "source": [
    "# Trip data exploration"
   ]
  },
  {
   "cell_type": "markdown",
   "metadata": {},
   "source": [
    "## Class retrieving the data from the C++ server program"
   ]
  },
  {
   "cell_type": "code",
   "execution_count": null,
   "metadata": {
    "collapsed": false
   },
   "outputs": [],
   "source": [
    "import numpy\n",
    "import pandas\n",
    "\n",
    "class DataReader:\n",
    "    def __init__( self, cppToPythonPipeName, pythonToCppPipeName ):\n",
    "        self.__cppToPythonPipeName = cppToPythonPipeName\n",
    "        self.__pythonToCppPipeName = pythonToCppPipeName\n",
    "        return\n",
    "\n",
    "    def exit( self ):\n",
    "        fo = open( self.__pythonToCppPipeName, 'w' )\n",
    "        fo.write( \"exit\" )\n",
    "        fo.close()\n",
    "        return\n",
    "\n",
    "    def driverList( self ):\n",
    "        result = []\n",
    "        fo = open( self.__pythonToCppPipeName, 'w' )\n",
    "        fo.write( \"drivers\" )\n",
    "        fo.close()\n",
    "        fi = open( self.__cppToPythonPipeName, 'r' )\n",
    "        n = int( fi.readline() )\n",
    "        for i in range(n):\n",
    "            result.append( int(fi.readline()) )\n",
    "        fi.close()\n",
    "        return result\n",
    "        \n",
    "    def tripList( self, driverId ):\n",
    "        result = []\n",
    "        fo = open( self.__pythonToCppPipeName, 'w' )\n",
    "        fo.write( \"trips \" + str(driverId) )\n",
    "        fo.close()\n",
    "        fi = open( self.__cppToPythonPipeName, 'r' )\n",
    "        n = int( fi.readline() )\n",
    "        for i in range(n):\n",
    "            result.append( int(fi.readline()) )\n",
    "        fi.close()\n",
    "        return result\n",
    "\n",
    "    def rawData( self, driverId, tripId ):\n",
    "        fo = open( self.__pythonToCppPipeName, 'w' )\n",
    "        fo.write( \"rawdata \" + str(driverId) + \" \" + str(tripId) )\n",
    "        fo.close()\n",
    "        result = numpy.array([]).reshape([0,2])\n",
    "        fi = open( self.__cppToPythonPipeName, 'r' )\n",
    "        n = int( fi.readline() )\n",
    "        for i in range(n):\n",
    "            data = fi.readline().strip().split()\n",
    "            result = numpy.vstack((result, numpy.array([float(data[0]),float(data[1])]) ))\n",
    "        fi.close()\n",
    "        return result\n",
    "        \n",
    "    def segmentData( self, driverId, tripId ):\n",
    "        fo = open( self.__pythonToCppPipeName, 'w' )\n",
    "        fo.write( \"segments \" + str(driverId) + \" \" + str(tripId) )\n",
    "        fo.close()\n",
    "        sresult = []\n",
    "        fi = open( self.__cppToPythonPipeName, 'r' )\n",
    "        lines = fi.readlines()\n",
    "        fi.close()\n",
    "        nsegs = int(lines[0].strip())\n",
    "        i = 1\n",
    "        for s in range(nsegs):\n",
    "            result = numpy.array([]).reshape([0,2])\n",
    "            n = int(lines[i].strip())\n",
    "            i += 1\n",
    "            for ipoint in range(n):\n",
    "                data = lines[i].strip().split()\n",
    "                i += 1\n",
    "                point = numpy.array([float(data[0]),float(data[1])])\n",
    "                result = numpy.vstack((result, point ))\n",
    "            sresult.append( result )\n",
    "        return sresult    \n",
    "\n",
    "    def accelerationValues( self, driverId, tripId ):\n",
    "        result = []\n",
    "        fo = open( self.__pythonToCppPipeName, 'w' )\n",
    "        fo.write( \"acceleration \" + str(driverId) + \" \" + str(tripId) )\n",
    "        fo.close()\n",
    "        fi = open( self.__cppToPythonPipeName, 'r' )\n",
    "        n = int( fi.readline() )\n",
    "        for i in range(n):\n",
    "            result.append( float(fi.readline()) )\n",
    "        fi.close()\n",
    "        return result\n",
    "        \n",
    "    def travelDuration( self, driverId, tripId ):\n",
    "        fo = open( self.__pythonToCppPipeName, 'w' )\n",
    "        fo.write( \"travelDuration \" + str(driverId) + \" \" + str(tripId) )\n",
    "        fo.close()\n",
    "        fi = open( self.__cppToPythonPipeName, 'r' )\n",
    "        v = float( fi.readline() )\n",
    "        fi.close()\n",
    "        return v\n",
    "        \n",
    "    def travelLength( self, driverId, tripId ):\n",
    "        fo = open( self.__pythonToCppPipeName, 'w' )\n",
    "        fo.write( \"travelLength \" + str(driverId) + \" \" + str(tripId) )\n",
    "        fo.close()\n",
    "        fi = open( self.__cppToPythonPipeName, 'r' )\n",
    "        v = float( fi.readline() )\n",
    "        fi.close()\n",
    "        return v\n",
    "        \n",
    "    def distanceOfEndPoint( self, driverId, tripId ):\n",
    "        fo = open( self.__pythonToCppPipeName, 'w' )\n",
    "        fo.write( \"distanceOfEndPoint \" + str(driverId) + \" \" + str(tripId) )\n",
    "        fo.close()\n",
    "        fi = open( self.__cppToPythonPipeName, 'r' )\n",
    "        v = float( fi.readline() )\n",
    "        fi.close()\n",
    "        return v\n",
    "        \n",
    "    def speedValues( self, driverId, tripId ):\n",
    "        result = numpy.array([]).reshape([0,1])\n",
    "        fo = open( self.__pythonToCppPipeName, 'w' )\n",
    "        fo.write( \"speed \" + str(driverId) + \" \" + str(tripId) )\n",
    "        fo.close()\n",
    "        fi = open( self.__cppToPythonPipeName, 'r' )\n",
    "        n = int( fi.readline() )\n",
    "        for i in range(n):\n",
    "            result = numpy.vstack( ( result, float(fi.readline() ) ) )\n",
    "        fi.close()\n",
    "        return result\n",
    "\n",
    "    def fftValues( self, driverId, tripId ):\n",
    "        result = numpy.array([])\n",
    "        fo = open( self.__pythonToCppPipeName, 'w' )\n",
    "        fo.write( \"fft \" + str(driverId) + \" \" + str(tripId) )\n",
    "        fo.close()\n",
    "        fi = open( self.__cppToPythonPipeName, 'r' )\n",
    "        n = int( fi.readline() )\n",
    "        for i in range(n):\n",
    "            result = numpy.hstack( ( result, float(fi.readline() ) ) )\n",
    "        fi.close()\n",
    "        return result\n",
    "\n",
    "\n",
    "    def fftDirectionValues( self, driverId, tripId ):\n",
    "        result = numpy.array([])\n",
    "        fo = open( self.__pythonToCppPipeName, 'w' )\n",
    "        fo.write( \"fft_direction \" + str(driverId) + \" \" + str(tripId) )\n",
    "        fo.close()\n",
    "        fi = open( self.__cppToPythonPipeName, 'r' )\n",
    "        n = int( fi.readline() )\n",
    "        for i in range(n):\n",
    "            result = numpy.hstack( ( result, float(fi.readline() ) ) )\n",
    "        fi.close()\n",
    "        return result\n",
    "\n",
    "\n",
    "    def accelerationValues( self, driverId, tripId ):\n",
    "        result = numpy.array([]).reshape([0,1])\n",
    "        fo = open( self.__pythonToCppPipeName, 'w' )\n",
    "        fo.write( \"acceleration \" + str(driverId) + \" \" + str(tripId) )\n",
    "        fo.close()\n",
    "        fi = open( self.__cppToPythonPipeName, 'r' )\n",
    "        n = int( fi.readline() )\n",
    "        for i in range(n):\n",
    "            result = numpy.vstack( ( result, float(fi.readline() ) ) )\n",
    "        fi.close()\n",
    "        return result\n",
    "\n",
    "    def directionValues( self, driverId, tripId ):\n",
    "        result = numpy.array([]).reshape([0,1])\n",
    "        fo = open( self.__pythonToCppPipeName, 'w' )\n",
    "        fo.write( \"direction \" + str(driverId) + \" \" + str(tripId) )\n",
    "        fo.close()\n",
    "        fi = open( self.__cppToPythonPipeName, 'r' )\n",
    "        n = int( fi.readline() )\n",
    "        for i in range(n):\n",
    "            result = numpy.vstack( ( result, float(fi.readline() ) ) )\n",
    "        fi.close()\n",
    "        return result\n",
    "\n",
    "    def speedAccelerationDirectionValues( self, driverId, tripId ):\n",
    "        result = numpy.array([]).reshape([0,3])\n",
    "        fo = open( self.__pythonToCppPipeName, 'w' )\n",
    "        fo.write( \"speedAccelerationDirection \" + str(driverId) + \" \" + str(tripId) )\n",
    "        fo.close()\n",
    "        fi = open( self.__cppToPythonPipeName, 'r' )\n",
    "        n = int( fi.readline() )\n",
    "        for i in range(n):\n",
    "            line = fi.readline().strip().split()\n",
    "            line = numpy.array([float(line[0]),float(line[1]),float(line[2])])\n",
    "            result = numpy.vstack( ( result, line ) )\n",
    "        fi.close()\n",
    "        return result\n",
    "\n",
    "    def speedQuantiles( self, driverId, tripId ):\n",
    "        result = numpy.array([]).reshape([0,1])\n",
    "        fo = open( self.__pythonToCppPipeName, 'w' )\n",
    "        fo.write( \"speedQuantiles \" + str(driverId) + \" \" + str(tripId) )\n",
    "        fo.close()\n",
    "        fi = open( self.__cppToPythonPipeName, 'r' )\n",
    "        n = int( fi.readline() )\n",
    "        for i in range(n):\n",
    "            result = numpy.vstack( ( result, float(fi.readline() ) ) )\n",
    "        fi.close()\n",
    "        return result\n",
    "\n",
    "    def accelerationQuantiles( self, driverId, tripId ):\n",
    "        result = numpy.array([]).reshape([0,1])\n",
    "        fo = open( self.__pythonToCppPipeName, 'w' )\n",
    "        fo.write( \"accelerationQuantiles \" + str(driverId) + \" \" + str(tripId) )\n",
    "        fo.close()\n",
    "        fi = open( self.__cppToPythonPipeName, 'r' )\n",
    "        n = int( fi.readline() )\n",
    "        for i in range(n):\n",
    "            result = numpy.vstack( ( result, float(fi.readline() ) ) )\n",
    "        fi.close()\n",
    "        return result\n",
    "\n",
    "    def directionQuantiles( self, driverId, tripId ):\n",
    "        result = numpy.array([]).reshape([0,1])\n",
    "        fo = open( self.__pythonToCppPipeName, 'w' )\n",
    "        fo.write( \"directionQuantiles \" + str(driverId) + \" \" + str(tripId) )\n",
    "        fo.close()\n",
    "        fi = open( self.__cppToPythonPipeName, 'r' )\n",
    "        n = int( fi.readline() )\n",
    "        for i in range(n):\n",
    "            result = numpy.vstack( ( result, float(fi.readline() ) ) )\n",
    "        fi.close()\n",
    "        return result\n",
    "\n",
    "    def allTripMetrics( self ):\n",
    "        fo = open( self.__pythonToCppPipeName, 'w' )\n",
    "        fo.write( \"allTripMetrics\" )\n",
    "        fo.close()\n",
    "        fi = open( self.__cppToPythonPipeName, 'r' )\n",
    "        columnNames = fi.readline().strip().split()\n",
    "        nVariables = len(columnNames)\n",
    "        n = int( fi.readline() )\n",
    "        result = numpy.zeros((n,nVariables))\n",
    "        for i in range(n):\n",
    "            line = fi.readline().strip().split();\n",
    "            for j in range(nVariables):\n",
    "                result[i,j] = float(line[j])\n",
    "        fi.close()\n",
    "        return result, columnNames\n",
    "\n",
    "    def driverTripMetrics( self, driverId ):\n",
    "        fo = open( self.__pythonToCppPipeName, 'w' )\n",
    "        fo.write( \"driverTripMetrics \" + str(driverId) )\n",
    "        fo.close()\n",
    "        fi = open( self.__cppToPythonPipeName, 'r' )\n",
    "        columnNames = fi.readline().strip().split()\n",
    "        nVariables = len(columnNames)\n",
    "        n = int( fi.readline() )\n",
    "        result = numpy.zeros((n,nVariables))\n",
    "        for i in range(n):\n",
    "            line = fi.readline().strip().split();\n",
    "            for j in range(nVariables):\n",
    "                result[i,j] = float(line[j])\n",
    "        fi.close()\n",
    "        return result, columnNames\n",
    "\n"
   ]
  },
  {
   "cell_type": "markdown",
   "metadata": {},
   "source": [
    "## A function to plot the raw data"
   ]
  },
  {
   "cell_type": "code",
   "execution_count": null,
   "metadata": {
    "collapsed": false
   },
   "outputs": [],
   "source": [
    "# Gets the angle from y to x\n",
    "def angleOfVectors( x, y ):\n",
    "    mx = numpy.sqrt(x[0]**2 + x[1]**2)\n",
    "    if mx == 0:\n",
    "        return 0\n",
    "    my = numpy.sqrt(y[0]**2 + y[1]**2)\n",
    "    if my == 0:\n",
    "        return 0\n",
    "    mxy = mx * my\n",
    "    sint = ( x[0]*y[1] - x[1]*y[0] ) / mxy\n",
    "    cost = ( x[0]*y[0] + x[1]*y[1] ) / mxy\n",
    "    if sint > 1: sint = 1\n",
    "    if sint < -1: sint = -1\n",
    "    if cost >= 0:\n",
    "        return numpy.arcsin( sint )\n",
    "    else:\n",
    "        if sint > 0:\n",
    "            return numpy.pi - numpy.arcsin( sint )\n",
    "        else:\n",
    "            if cost > 1: cost=1\n",
    "            if cost < -1: cost=-1\n",
    "            return -( numpy.arccos( cost ) )\n",
    "\n",
    "\n",
    "# Function for plotting the raw data of the segments\n",
    "def plotSegmentData( segments ):\n",
    "    \n",
    "    tripData = numpy.array([]).reshape([0,2])\n",
    "    tAngles = numpy.array([])\n",
    "    tSpeed = numpy.array([])\n",
    "    tAcceleration = numpy.array([])\n",
    "    \n",
    "    for segment in segments:\n",
    "        speedVectors = numpy.diff( segment, axis = 0 )\n",
    "        speedValues = 3.6 * numpy.apply_along_axis( lambda x: numpy.sqrt( x[0]**2+x[1]**2), 1, speedVectors )\n",
    "        if len(speedValues) > 1:\n",
    "            accelerationValues = numpy.diff( speedValues ) / 3.6\n",
    "            angles = numpy.zeros( len(speedVectors) - 1 )\n",
    "            for i in range(len(angles)):\n",
    "                v1 = speedVectors[i]\n",
    "                v2 = speedVectors[i+1]\n",
    "                angles[i] = angleOfVectors(v1,v2) * 180 / numpy.pi\n",
    "            tAngles = numpy.hstack( (tAngles, angles) )\n",
    "            tAcceleration = numpy.hstack( (tAcceleration, accelerationValues) )\n",
    "\n",
    "        tSpeed = numpy.hstack( (tSpeed, speedValues) )\n",
    "        tripData = numpy.vstack( (tripData, segment) )\n",
    "\n",
    "    # Draw the raw data\n",
    "    plt.figure( figsize = (10,10), facecolor='lightblue')\n",
    "    ax = plt.subplot(321)\n",
    "    ax.plot( tripData[0:,0], tripData[0:,1], 'r.', alpha = 0.1 )\n",
    "    ax.grid(True)\n",
    "    ax = plt.subplot(322)\n",
    "    ax.plot( numpy.arange(0,len(tripData)), tripData[0:,1], 'b.', alpha = 0.1 )\n",
    "    ax.grid(True)\n",
    "    ax = plt.subplot(323)\n",
    "    ax.plot( tripData[0:,0], numpy.arange(0,len(tripData)), 'b.', alpha = 0.1 )\n",
    "    ax.grid(True)\n",
    "    ax = plt.subplot(324)\n",
    "    ax.plot( numpy.arange(0,len(tAngles)), tAngles, 'r-' )\n",
    "    ax.plot( numpy.arange(0,len(tAngles)), tAngles, 'r.' )\n",
    "    ax.grid(True)\n",
    "    ax = plt.subplot(325)\n",
    "    ax.plot( numpy.arange(0,len(tSpeed)), tSpeed, 'g-' )\n",
    "    ax.plot( numpy.arange(0,len(tSpeed)), tSpeed, 'g.', alpha=0.15 )\n",
    "    ax.grid(True)\n",
    "    ax = plt.subplot(326)\n",
    "    ax.plot( numpy.arange(0,len(tAcceleration)), tAcceleration, 'b-' )\n",
    "    ax.plot( numpy.arange(0,len(tAcceleration)), tAcceleration, 'b.', alpha=0.15 )\n",
    "    ax.grid(True)\n",
    "    return\n",
    "    "
   ]
  },
  {
   "cell_type": "markdown",
   "metadata": {},
   "source": [
    "## Function selecting the middle x% of the data for a given column"
   ]
  },
  {
   "cell_type": "code",
   "execution_count": null,
   "metadata": {
    "collapsed": false
   },
   "outputs": [],
   "source": [
    "def selectVariable(data, column, percentage = 99 ):\n",
    "    percentile = (100 - percentage) / 2\n",
    "    cut_low = numpy.percentile(data[0:,column], percentile )\n",
    "    cut_high = numpy.percentile(data[0:,column], 100-percentile)\n",
    "    selection = data[(data[0:,column] > cut_low) & (data[0:,column]<cut_high)][0:,column]\n",
    "    return selection"
   ]
  },
  {
   "cell_type": "markdown",
   "metadata": {},
   "source": [
    "## Function for rebinning a histogram"
   ]
  },
  {
   "cell_type": "code",
   "execution_count": null,
   "metadata": {
    "collapsed": false
   },
   "outputs": [],
   "source": [
    "def reBin( originalBins, numberOfBins ):\n",
    "    lowEdge = originalBins[0]\n",
    "    highEdge = originalBins[-1]\n",
    "    binSize = ( highEdge - lowEdge ) / numberOfBins\n",
    "    result = []\n",
    "    for i in range(numberOfBins):\n",
    "        result.append( lowEdge + i * binSize)\n",
    "    result.append(highEdge)\n",
    "    return result"
   ]
  },
  {
   "cell_type": "markdown",
   "metadata": {},
   "source": [
    "## Function for normalising an array after removing the outliars"
   ]
  },
  {
   "cell_type": "code",
   "execution_count": null,
   "metadata": {
    "collapsed": false
   },
   "outputs": [],
   "source": [
    "def normaliseData( x ):\n",
    "    orderedX = numpy.sort(x[ ~ numpy.isnan( x ) ])\n",
    "    orderedX = orderedX[0.0025*len(orderedX) : 0.9975*len(orderedX)]\n",
    "    m = numpy.mean( orderedX )\n",
    "    s = numpy.std( orderedX )\n",
    "    minValue = orderedX[0]\n",
    "    maxValue = orderedX[-1]\n",
    "    result = numpy.zeros(len(x))\n",
    "    for i in range(len(result)):\n",
    "        if ( numpy.isnan(x[i]) or ( x[i] < minValue ) or ( x[i] > maxValue ) ):\n",
    "            result[i] = numpy.nan\n",
    "        else:\n",
    "            result[i] = ( x[i] - m ) / s \n",
    "    return result"
   ]
  },
  {
   "cell_type": "markdown",
   "metadata": {},
   "source": [
    "## Function for performing a Primary Component Analysis (on normalised data)"
   ]
  },
  {
   "cell_type": "code",
   "execution_count": null,
   "metadata": {
    "collapsed": false
   },
   "outputs": [],
   "source": [
    "def findPCA( x ):\n",
    "    (nSamples, dimensions) = x.shape\n",
    "    # Calculate mean vector\n",
    "    meanVector = numpy.apply_along_axis( numpy.mean, 0, x )\n",
    "    # Calculate covariance matrix from scatted matrix\n",
    "    scatter_matrix = numpy.zeros((dimensions,dimensions))\n",
    "    for i in range(nSamples):\n",
    "        d = ( x[i,:] - meanVector ).reshape( dimensions, 1 )\n",
    "        scatter_matrix += d.dot( d.T )\n",
    "    scatter_matrix /= nSamples - 1\n",
    "    \n",
    "    # Get the eigenvalues\n",
    "    eig_val, eig_vec = numpy.linalg.eig(scatter_matrix)\n",
    "    \n",
    "    pairs = [( numpy.abs(eig_val[i]), eig_vec[i] ) for i in range(dimensions) ]\n",
    "    pairs.sort()\n",
    "    pairs.reverse()\n",
    "    v = numpy.zeros(dimensions)\n",
    "    w = []\n",
    "    for i in range(dimensions):\n",
    "        v[i] = pairs[i][0]\n",
    "        w.append(pairs[i][1])\n",
    "    explained_variance_ratio = v / v.sum()\n",
    "    return (v, w, explained_variance_ratio)"
   ]
  },
  {
   "cell_type": "markdown",
   "metadata": {},
   "source": [
    "## Function to plot the speed, acceleration and direction values"
   ]
  },
  {
   "cell_type": "code",
   "execution_count": null,
   "metadata": {
    "collapsed": false
   },
   "outputs": [],
   "source": [
    "def plotSpeedAccelerationDirection( dataReader, driverId, tripId ):\n",
    "\n",
    "    values = dataReader.speedAccelerationDirectionValues(driverId, tripId)\n",
    "\n",
    "    plt.figure(figsize=(10,10), facecolor='lightblue')\n",
    "    ax = plt.subplot(331)\n",
    "    ax.plot( numpy.arange(0,len(values) ), values[0:,0], 'g-' )\n",
    "    ax.set_ylabel('Speed $m/s$')\n",
    "    ax.grid(True)\n",
    "\n",
    "    ax = plt.subplot(332)\n",
    "    ax.plot( numpy.arange(0,len(values) ), values[0:,1], 'b-' )\n",
    "    ax.set_ylabel('Acceleration $m/s^2$')\n",
    "    ax.grid(True)\n",
    "\n",
    "    ax = plt.subplot(333)\n",
    "    ax.plot( numpy.arange(0,len(values) ), values[0:,2], 'r-' )\n",
    "    ax.set_ylabel('Direction $rad$')\n",
    "    ax.grid(True)\n",
    "\n",
    "    ax = plt.subplot(334)\n",
    "    ax.plot( values[0:,0], values[0:,1], 'g.', alpha=0.3 )\n",
    "    ax.set_xlabel('Speed $m/s$')\n",
    "    ax.set_ylabel('Acceleration $m/s^2$')\n",
    "    ax.grid(True)\n",
    "    slope, intercept, r_value, p_value, std_err =scipy.stats.linregress( values[0:,0], values[0:,1])\n",
    "    r2 = r_value**2\n",
    "    xticks = ax.xaxis.get_majorticklocs()\n",
    "    yticks = ax.yaxis.get_majorticklocs()\n",
    "    xorig = xticks[0] + 0.2 * (xticks[-1] - xticks[0])\n",
    "    yorig = yticks[0] + 0.8 * (yticks[-1] - yticks[0])\n",
    "    ax.text(xorig, yorig,'$R^2$ : ' + str(numpy.around(r2,3)), ha='left')\n",
    "    ax.plot( xticks, xticks * slope + intercept, 'g-')\n",
    "\n",
    "    ax = plt.subplot(335)\n",
    "    ax.plot( values[0:,0], values[0:,2], 'b.', alpha=0.3 )\n",
    "    ax.set_xlabel('Speed $m/s$')\n",
    "    ax.set_ylabel('Direction $rad$')\n",
    "    ax.grid(True)\n",
    "    slope, intercept, r_value, p_value, std_err =scipy.stats.linregress( values[0:,0], values[0:,2])\n",
    "    r2 = r_value**2\n",
    "    xticks = ax.xaxis.get_majorticklocs()\n",
    "    yticks = ax.yaxis.get_majorticklocs()\n",
    "    xorig = xticks[0] + 0.2 * (xticks[-1] - xticks[0])\n",
    "    yorig = yticks[0] + 0.8 * (yticks[-1] - yticks[0])\n",
    "    ax.text(xorig, yorig,'$R^2$ : ' + str(numpy.around(r2,3)), ha='left')\n",
    "    ax.plot( xticks, xticks * slope + intercept, 'b-')\n",
    "\n",
    "    ax = plt.subplot(336)\n",
    "    ax.plot( values[0:,1], values[0:,2], 'r.', alpha=0.3 )\n",
    "    ax.set_xlabel('Acceleration $m/s^2$')\n",
    "    ax.set_ylabel('Direction $rad$')\n",
    "    ax.grid(True)\n",
    "    slope, intercept, r_value, p_value, std_err =scipy.stats.linregress( values[0:,1], values[0:,2])\n",
    "    r2 = r_value**2\n",
    "    xticks = ax.xaxis.get_majorticklocs()\n",
    "    yticks = ax.yaxis.get_majorticklocs()\n",
    "    xorig = xticks[0] + 0.2 * (xticks[-1] - xticks[0])\n",
    "    yorig = yticks[0] + 0.8 * (yticks[-1] - yticks[0])\n",
    "    ax.text(xorig, yorig,'$R^2$ : ' + str(numpy.around(r2,3)), ha='left')\n",
    "    ax.plot( xticks, xticks * slope + intercept, 'r-')\n",
    "\n",
    "    ax = plt.subplot(337)\n",
    "    ax.hist( values[0:,0], 30, normed=True, facecolor='green' )\n",
    "    ax.set_xlabel('Speed $m/s$')\n",
    "    ax.grid(True)\n",
    "\n",
    "    ax = plt.subplot(338)\n",
    "    ax.hist( values[0:,1], 30, normed=True, facecolor='blue' )\n",
    "    ax.set_xlabel('Acceleration $m/s^2$')\n",
    "    ax.grid(True)\n",
    "\n",
    "    ax = plt.subplot(339)\n",
    "    ax.hist( values[0:,2], 30, normed=True, facecolor='red' )\n",
    "    ax.set_xlabel('Direction $rad$')\n",
    "    ax.grid(True)\n",
    "    \n",
    "    return"
   ]
  },
  {
   "cell_type": "markdown",
   "metadata": {},
   "source": [
    "## Main script"
   ]
  },
  {
   "cell_type": "markdown",
   "metadata": {},
   "source": [
    "Set up matplotlib and other packages"
   ]
  },
  {
   "cell_type": "code",
   "execution_count": null,
   "metadata": {
    "collapsed": false
   },
   "outputs": [],
   "source": [
    "%matplotlib inline\n",
    "import matplotlib.pyplot as plt\n",
    "import scipy.stats\n",
    "import sklearn.decomposition"
   ]
  },
  {
   "cell_type": "markdown",
   "metadata": {},
   "source": [
    "Create the connection to the server"
   ]
  },
  {
   "cell_type": "code",
   "execution_count": null,
   "metadata": {
    "collapsed": false
   },
   "outputs": [],
   "source": [
    "dataReader = DataReader('cpptopythonpipe','pythontocpppipe')\n",
    "driverIds = dataReader.driverList()"
   ]
  },
  {
   "cell_type": "code",
   "execution_count": null,
   "metadata": {
    "collapsed": false
   },
   "outputs": [],
   "source": [
    "(metricData, variableNames) = dataReader.allTripMetrics()"
   ]
  },
  {
   "cell_type": "code",
   "execution_count": null,
   "metadata": {
    "collapsed": false
   },
   "outputs": [],
   "source": [
    "driverId = 1\n",
    "\n",
    "if driverId not in driverIds:\n",
    "    raise BaseException(\"Invalid driver id\")\n",
    "(driverMetrics, variableNames) = dataReader.driverTripMetrics(driverId)"
   ]
  },
  {
   "cell_type": "code",
   "execution_count": null,
   "metadata": {
    "collapsed": false
   },
   "outputs": [],
   "source": [
    "# Plot the trip metrics\n",
    "\n",
    "numberOfDriverBins = 20\n",
    "numberOfBackgroundBins = 150\n",
    "numberOfMetrics = len(variableNames)\n",
    "numberOfImageColumns = 4\n",
    "numberOfImageRows = int( numpy.ceil(numberOfMetrics / numberOfImageColumns ))\n",
    "plt.figure( figsize = (numberOfImageColumns * 4, numberOfImageRows * 4) )\n",
    "for i in range(numberOfMetrics):\n",
    "    ax = plt.subplot( numberOfImageRows, numberOfImageColumns, i + 1 )\n",
    "    generalData = numpy.sort(metricData[ ~ numpy.isnan( metricData[0:,i] ) ][0:,i])\n",
    "    generalData = generalData[0.0025*len(generalData) : 0.9975*len(generalData)]\n",
    "    (v,b,o) = plt.hist(generalData, bins=numberOfBackgroundBins, normed=True, alpha=0.3)\n",
    "    \n",
    "    driverMetricData = driverMetrics[ ~ numpy.isnan( driverMetrics[0:,i] ) ][0:,i]\n",
    "    (v,b,o) = plt.hist(driverMetricData,\n",
    "                       bins=b[0] + numpy.arange(numberOfDriverBins+1)*(b[-1]-b[0])/numberOfDriverBins,\n",
    "                 normed=True, alpha=0.3)\n",
    "    t = ax.set_title( variableNames[i] )"
   ]
  },
  {
   "cell_type": "code",
   "execution_count": null,
   "metadata": {
    "collapsed": false
   },
   "outputs": [],
   "source": [
    "# Perform PCA analysis after cleaning and normalising\n",
    "normalisedData = numpy.apply_along_axis(normaliseData,0,metricData)\n",
    "normalisedData=normalisedData[~numpy.any( numpy.isnan(normalisedData), axis=1 )][0:,2:]\n",
    "numberOfPrincipalComponents = 10\n",
    "pca = sklearn.decomposition.PCA(n_components = numberOfPrincipalComponents )\n",
    "res = pca.fit(normalisedData)\n",
    "\n",
    "# Transform the data\n",
    "transformedData = pca.transform(normalisedData)\n",
    "normalisedDataD = numpy.apply_along_axis(normaliseData,0,driverMetrics)\n",
    "normalisedDataD=normalisedDataD[~numpy.any( numpy.isnan(normalisedDataD), axis=1 )][0:,2:]\n",
    "transformedDataD = pca.transform(normalisedDataD)"
   ]
  },
  {
   "cell_type": "code",
   "execution_count": null,
   "metadata": {
    "collapsed": false
   },
   "outputs": [],
   "source": [
    "plt.figure( figsize = (numberOfImageColumns * 4, numberOfImageRows * 4), facecolor='lightblue')\n",
    "for i in range(numberOfPrincipalComponents):\n",
    "        ax = plt.subplot( numberOfImageRows, numberOfImageColumns, i + 1 )\n",
    "        h = plt.hist(transformedData[0:,i], numberOfBackgroundBins, normed=True)\n",
    "        h = plt.hist(transformedDataD[0:,i], numberOfDriverBins, normed=True)        \n"
   ]
  },
  {
   "cell_type": "code",
   "execution_count": null,
   "metadata": {
    "collapsed": false
   },
   "outputs": [],
   "source": [
    "len(transformedData)"
   ]
  },
  {
   "cell_type": "code",
   "execution_count": null,
   "metadata": {
    "collapsed": false
   },
   "outputs": [],
   "source": []
  },
  {
   "cell_type": "code",
   "execution_count": null,
   "metadata": {
    "collapsed": false
   },
   "outputs": [],
   "source": []
  },
  {
   "cell_type": "code",
   "execution_count": null,
   "metadata": {
    "collapsed": false
   },
   "outputs": [],
   "source": [
    "driverId=2811\n",
    "tripId=115\n",
    "rawData=dataReader.rawData(driverId,tripId)\n",
    "segmentData = dataReader.segmentData(driverId,tripId)\n",
    "plotSegmentData( [rawData,])\n",
    "plotSegmentData(segmentData)"
   ]
  },
  {
   "cell_type": "code",
   "execution_count": null,
   "metadata": {
    "collapsed": false
   },
   "outputs": [],
   "source": [
    "# Speed, Acceleration, direction histograms\n",
    "driverId = 1\n",
    "tripId = 2\n",
    "plotSpeedAccelerationDirection( dataReader, driverId, tripId )"
   ]
  },
  {
   "cell_type": "code",
   "execution_count": null,
   "metadata": {
    "collapsed": false
   },
   "outputs": [],
   "source": [
    "dataReader.exit()"
   ]
  },
  {
   "cell_type": "code",
   "execution_count": null,
   "metadata": {
    "collapsed": false
   },
   "outputs": [],
   "source": []
  }
 ],
 "metadata": {
  "kernelspec": {
   "display_name": "Python 3",
   "language": "python",
   "name": "python3"
  },
  "language_info": {
   "codemirror_mode": {
    "name": "ipython",
    "version": 3
   },
   "file_extension": ".py",
   "mimetype": "text/x-python",
   "name": "python",
   "nbconvert_exporter": "python",
   "pygments_lexer": "ipython3",
   "version": "3.4.2"
  }
 },
 "nbformat": 4,
 "nbformat_minor": 0
}
